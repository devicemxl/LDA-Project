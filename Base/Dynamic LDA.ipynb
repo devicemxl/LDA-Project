{
 "cells": [
  {
   "cell_type": "code",
   "execution_count": 1,
   "metadata": {},
   "outputs": [],
   "source": [
    "import numpy as np\n",
    "import pandas as pd\n",
    "from matplotlib import pyplot as plt"
   ]
  },
  {
   "cell_type": "code",
   "execution_count": 2,
   "metadata": {},
   "outputs": [
    {
     "data": {
      "text/html": [
       "<div>\n",
       "<style scoped>\n",
       "    .dataframe tbody tr th:only-of-type {\n",
       "        vertical-align: middle;\n",
       "    }\n",
       "\n",
       "    .dataframe tbody tr th {\n",
       "        vertical-align: top;\n",
       "    }\n",
       "\n",
       "    .dataframe thead th {\n",
       "        text-align: right;\n",
       "    }\n",
       "</style>\n",
       "<table border=\"1\" class=\"dataframe\">\n",
       "  <thead>\n",
       "    <tr style=\"text-align: right;\">\n",
       "      <th></th>\n",
       "      <th>account_length</th>\n",
       "      <th>number_vmail_messages</th>\n",
       "      <th>total_day_charge</th>\n",
       "      <th>total_eve_charge</th>\n",
       "      <th>total_night_charge</th>\n",
       "      <th>total_intl_charge</th>\n",
       "      <th>number_customer_service_calls</th>\n",
       "      <th>churn</th>\n",
       "    </tr>\n",
       "  </thead>\n",
       "  <tbody>\n",
       "    <tr>\n",
       "      <th>0</th>\n",
       "      <td>128</td>\n",
       "      <td>25</td>\n",
       "      <td>45.07</td>\n",
       "      <td>16.78</td>\n",
       "      <td>11.01</td>\n",
       "      <td>2.70</td>\n",
       "      <td>1</td>\n",
       "      <td>0</td>\n",
       "    </tr>\n",
       "    <tr>\n",
       "      <th>1</th>\n",
       "      <td>107</td>\n",
       "      <td>26</td>\n",
       "      <td>27.47</td>\n",
       "      <td>16.62</td>\n",
       "      <td>11.45</td>\n",
       "      <td>3.70</td>\n",
       "      <td>1</td>\n",
       "      <td>0</td>\n",
       "    </tr>\n",
       "    <tr>\n",
       "      <th>2</th>\n",
       "      <td>137</td>\n",
       "      <td>0</td>\n",
       "      <td>41.38</td>\n",
       "      <td>10.30</td>\n",
       "      <td>7.32</td>\n",
       "      <td>3.29</td>\n",
       "      <td>0</td>\n",
       "      <td>0</td>\n",
       "    </tr>\n",
       "    <tr>\n",
       "      <th>3</th>\n",
       "      <td>84</td>\n",
       "      <td>0</td>\n",
       "      <td>50.90</td>\n",
       "      <td>5.26</td>\n",
       "      <td>8.86</td>\n",
       "      <td>1.78</td>\n",
       "      <td>2</td>\n",
       "      <td>0</td>\n",
       "    </tr>\n",
       "    <tr>\n",
       "      <th>4</th>\n",
       "      <td>75</td>\n",
       "      <td>0</td>\n",
       "      <td>28.34</td>\n",
       "      <td>12.61</td>\n",
       "      <td>8.41</td>\n",
       "      <td>2.73</td>\n",
       "      <td>3</td>\n",
       "      <td>0</td>\n",
       "    </tr>\n",
       "  </tbody>\n",
       "</table>\n",
       "</div>"
      ],
      "text/plain": [
       "   account_length  number_vmail_messages  total_day_charge  total_eve_charge  \\\n",
       "0             128                     25             45.07             16.78   \n",
       "1             107                     26             27.47             16.62   \n",
       "2             137                      0             41.38             10.30   \n",
       "3              84                      0             50.90              5.26   \n",
       "4              75                      0             28.34             12.61   \n",
       "\n",
       "   total_night_charge  total_intl_charge  number_customer_service_calls  churn  \n",
       "0               11.01               2.70                              1      0  \n",
       "1               11.45               3.70                              1      0  \n",
       "2                7.32               3.29                              0      0  \n",
       "3                8.86               1.78                              2      0  \n",
       "4                8.41               2.73                              3      0  "
      ]
     },
     "execution_count": 2,
     "metadata": {},
     "output_type": "execute_result"
    }
   ],
   "source": [
    "data = pd.read_csv('Discriminant-analysis-churn-dataset.csv')\n",
    "data.dropna()\n",
    "data.head()"
   ]
  },
  {
   "cell_type": "code",
   "execution_count": 3,
   "metadata": {},
   "outputs": [
    {
     "data": {
      "text/plain": [
       "2"
      ]
     },
     "execution_count": 3,
     "metadata": {},
     "output_type": "execute_result"
    }
   ],
   "source": [
    "no_class = data['churn'].value_counts()\n",
    "no_classes = len(no_class)\n",
    "no_classes"
   ]
  },
  {
   "cell_type": "code",
   "execution_count": 4,
   "metadata": {},
   "outputs": [
    {
     "data": {
      "text/plain": [
       "array(['account_length', 'number_vmail_messages', 'total_day_charge',\n",
       "       'total_eve_charge', 'total_night_charge', 'total_intl_charge',\n",
       "       'number_customer_service_calls', 'churn'], dtype=object)"
      ]
     },
     "execution_count": 4,
     "metadata": {},
     "output_type": "execute_result"
    }
   ],
   "source": [
    "column_names = data.columns.values\n",
    "column_names"
   ]
  },
  {
   "cell_type": "code",
   "execution_count": 6,
   "metadata": {},
   "outputs": [
    {
     "name": "stdout",
     "output_type": "stream",
     "text": [
      "Features are : \n",
      "account_length\n",
      "number_vmail_messages\n",
      "total_day_charge\n",
      "total_eve_charge\n",
      "total_night_charge\n",
      "total_intl_charge\n",
      "number_customer_service_calls\n",
      "churn\n",
      "Enter features with comma seperator: account_length,number_vmail_messages,total_day_charge,total_eve_charge,total_night_charge,total_intl_charge,number_customer_service_calls\n",
      "Enter Dependent Variable : churn\n"
     ]
    }
   ],
   "source": [
    "def readInput(col):\n",
    "    print('Features are : \\n' + '\\n'.join(col))\n",
    "    text = input(\n",
    "        \"Enter features with comma seperator: \")\n",
    "    dep = input(\n",
    "        \"Enter Dependent Variable : \")\n",
    "    arr = text.split(\",\")\n",
    "    return arr,dep\n",
    "\n",
    "features,dep = readInput(column_names)\n",
    "\n",
    "## account_length,number_vmail_messages,total_day_charge,total_eve_charge,total_night_charge,total_intl_charge,number_customer_service_calls"
   ]
  },
  {
   "cell_type": "code",
   "execution_count": 7,
   "metadata": {},
   "outputs": [],
   "source": [
    "y = data[dep].values\n",
    "X = data[features].values"
   ]
  },
  {
   "cell_type": "markdown",
   "metadata": {},
   "source": [
    "### Find Mean Vectors\n"
   ]
  },
  {
   "cell_type": "code",
   "execution_count": 8,
   "metadata": {},
   "outputs": [],
   "source": [
    "cols = len(X[0])\n",
    "rows = len(X)"
   ]
  },
  {
   "cell_type": "code",
   "execution_count": 9,
   "metadata": {},
   "outputs": [
    {
     "name": "stdout",
     "output_type": "stream",
     "text": [
      "Mean Vector class 0: [99.91707431  8.29187049 29.87749359 16.89865362  8.97559283  2.75205451\n",
      "  1.45772187]\n",
      "\n",
      "Mean Vector class 1: [102.33239038   4.49646393  35.33841584  17.99956153   9.27360679\n",
      "   2.88742574   2.25459689]\n",
      "\n"
     ]
    }
   ],
   "source": [
    "mean_vectors = []\n",
    "for cl in range(0,no_classes):\n",
    "    mean_vectors.append(np.mean(X[y==cl], axis=0))\n",
    "    print('Mean Vector class %s: %s\\n' %(cl, mean_vectors[cl]))"
   ]
  },
  {
   "cell_type": "markdown",
   "metadata": {},
   "source": [
    "### Scatter Matrix within "
   ]
  },
  {
   "cell_type": "code",
   "execution_count": 10,
   "metadata": {},
   "outputs": [
    {
     "name": "stdout",
     "output_type": "stream",
     "text": [
      "within-class Scatter Matrix:\n",
      " [[ 1.09992335e+06  9.40718671e+03  1.69383086e+04  1.56125472e+03\n",
      "  -3.00928047e+03 -7.40361275e+02  6.54936191e+02]\n",
      " [ 9.40718671e+03  1.00297155e+05 -3.31651930e+04 -6.58110000e+03\n",
      "  -2.70698248e+03 -1.35965169e+02 -6.55660020e+02]\n",
      " [ 1.69383086e+04 -3.31651930e+04  1.17038861e+05  1.23221818e+04\n",
      "   3.44383032e+03  3.71790532e+02 -2.81365239e+03]\n",
      " [ 1.56125472e+03 -6.58110000e+03  1.23221818e+04  1.44214421e+04\n",
      "   2.87370670e+02  2.78700049e+01 -5.72699870e+02]\n",
      " [-3.00928047e+03 -2.70698248e+03  3.44383032e+03  2.87370670e+02\n",
      "   3.59226781e+03 -1.91946751e+01 -1.03620946e+02]\n",
      " [-7.40361275e+02 -1.35965169e+02  3.71790532e+02  2.78700049e+01\n",
      "  -1.91946751e+01  4.14388752e+02 -3.22197474e+01]\n",
      " [ 6.54936191e+02 -6.55660020e+02 -2.81365239e+03 -5.72699870e+02\n",
      "  -1.03620946e+02 -3.22197474e+01  2.77712448e+03]]\n"
     ]
    }
   ],
   "source": [
    "S_W = np.zeros((cols,cols))\n",
    "for cl,mv in zip(range(1,cols), mean_vectors):\n",
    "    class_sc_mat = np.zeros((cols,cols))                  # scatter matrix for every class\n",
    "    for row in X[y == cl]:\n",
    "        row, mv = row.reshape(cols,1), mv.reshape(cols,1) # make column vectors\n",
    "        class_sc_mat += (row-mv).dot((row-mv).T)\n",
    "    S_W += class_sc_mat                             # sum class scatter matrices\n",
    "print('within-class Scatter Matrix:\\n', S_W)"
   ]
  },
  {
   "cell_type": "markdown",
   "metadata": {},
   "source": [
    "### Scatter Matrix Between"
   ]
  },
  {
   "cell_type": "code",
   "execution_count": 11,
   "metadata": {},
   "outputs": [
    {
     "name": "stdout",
     "output_type": "stream",
     "text": [
      "between-class Scatter Matrix:\n",
      " [[ 8.24643379e+01 -1.29583739e+02  1.86448201e+02  3.75874787e+01\n",
      "   1.01748688e+01  4.62187926e+00  2.72071102e+01]\n",
      " [-1.29583739e+02  2.03626754e+02 -2.92983072e+02 -5.90646352e+01\n",
      "  -1.59886999e+01 -7.26278065e+00 -4.27530149e+01]\n",
      " [ 1.86448201e+02 -2.92983072e+02  4.21551092e+02  8.49836180e+01\n",
      "   2.30049259e+01  1.04498635e+01  6.15140663e+01]\n",
      " [ 3.75874787e+01 -5.90646352e+01  8.49836180e+01  1.71324792e+01\n",
      "   4.63773401e+00  2.10666565e+00  1.24010778e+01]\n",
      " [ 1.01748688e+01 -1.59886999e+01  2.30049259e+01  4.63773401e+00\n",
      "   1.25542699e+00  5.70270936e-01  3.35695143e+00]\n",
      " [ 4.62187926e+00 -7.26278065e+00  1.04498635e+01  2.10666565e+00\n",
      "   5.70270936e-01  2.59042496e-01  1.52487707e+00]\n",
      " [ 2.72071102e+01 -4.27530149e+01  6.15140663e+01  1.24010778e+01\n",
      "   3.35695143e+00  1.52487707e+00  8.97632676e+00]]\n"
     ]
    }
   ],
   "source": [
    "overall_mean = np.mean(X, axis=0)\n",
    "\n",
    "S_B = np.zeros((cols,cols))\n",
    "for i,mean_vec in enumerate(mean_vectors):  \n",
    "    n = X[y==i+1,:].shape[0]\n",
    "    mean_vec = mean_vec.reshape(cols,1) # make column vector\n",
    "    overall_mean = overall_mean.reshape(cols,1) # make column vector\n",
    "    S_B += n * (mean_vec - overall_mean).dot((mean_vec - overall_mean).T)\n",
    "\n",
    "print('between-class Scatter Matrix:\\n', S_B)"
   ]
  },
  {
   "cell_type": "markdown",
   "metadata": {},
   "source": [
    "### Eigen vector and eigen value pairs"
   ]
  },
  {
   "cell_type": "code",
   "execution_count": 12,
   "metadata": {},
   "outputs": [
    {
     "name": "stdout",
     "output_type": "stream",
     "text": [
      "\n",
      "Eigenvector 1: \n",
      "[[-0.51252713]\n",
      " [-0.03173888]\n",
      " [ 0.07909716]\n",
      " [ 0.0804031 ]\n",
      " [ 0.07025111]\n",
      " [ 0.57193115]\n",
      " [ 0.62573725]]\n",
      "Eigenvalue 1: 0.00e+00\n",
      "\n",
      "Eigenvector 2: \n",
      "[[ 0.00370866]\n",
      " [-0.03696254]\n",
      " [ 0.09211516]\n",
      " [ 0.09363603]\n",
      " [ 0.0818132 ]\n",
      " [ 0.66606092]\n",
      " [ 0.72872255]]\n",
      "Eigenvalue 2: 9.57e-03\n",
      "\n",
      "Eigenvector 3: \n",
      "[[-0.01257079]\n",
      " [-0.10279178]\n",
      " [ 0.0467552 ]\n",
      " [ 0.02251761]\n",
      " [ 0.34822758]\n",
      " [-0.28937765]\n",
      " [-0.88407062]]\n",
      "Eigenvalue 3: -7.37e-19\n",
      "\n",
      "Eigenvector 4: \n",
      "[[-0.01870579]\n",
      " [ 0.23046662]\n",
      " [ 0.26363995]\n",
      " [-0.22591573]\n",
      " [-0.28903413]\n",
      " [-0.85730423]\n",
      " [-0.08648708]]\n",
      "Eigenvalue 4: 1.23e-18\n",
      "\n",
      "Eigenvector 5: \n",
      "[[-0.00288169]\n",
      " [-0.03237908]\n",
      " [ 0.01921049]\n",
      " [-0.01559975]\n",
      " [ 0.2886241 ]\n",
      " [-0.93439271]\n",
      " [-0.20478595]]\n",
      "Eigenvalue 5: -2.14e-19\n",
      "\n",
      "Eigenvector 6: \n",
      "[[ 0.00797713]\n",
      " [ 0.00718103]\n",
      " [ 0.00301406]\n",
      " [-0.18458369]\n",
      " [-0.12911371]\n",
      " [ 0.8899381 ]\n",
      " [ 0.14148191]]\n",
      "Eigenvalue 6: 1.30e-19\n",
      "\n",
      "Eigenvector 7: \n",
      "[[ 0.00797713]\n",
      " [ 0.00718103]\n",
      " [ 0.00301406]\n",
      " [-0.18458369]\n",
      " [-0.12911371]\n",
      " [ 0.8899381 ]\n",
      " [ 0.14148191]]\n",
      "Eigenvalue 7: 1.30e-19\n"
     ]
    }
   ],
   "source": [
    "eig_vals, eig_vecs = np.linalg.eig(np.linalg.inv(S_W).dot(S_B))\n",
    "\n",
    "for i in range(len(eig_vals)):\n",
    "    eigvec_sc = eig_vecs[:,i].reshape(cols,1)   \n",
    "    print('\\nEigenvector {}: \\n{}'.format(i+1, eigvec_sc.real))\n",
    "    print('Eigenvalue {:}: {:.2e}'.format(i+1, eig_vals[i].real))"
   ]
  },
  {
   "cell_type": "markdown",
   "metadata": {},
   "source": [
    "### Sorting in decreasing order and picking top k values, max = c-1"
   ]
  },
  {
   "cell_type": "code",
   "execution_count": 13,
   "metadata": {},
   "outputs": [
    {
     "name": "stdout",
     "output_type": "stream",
     "text": [
      "Eigenvalues in decreasing order:\n",
      "\n",
      "0.009568737913379472\n",
      "1.2256322251277544e-18\n",
      "7.367177632007183e-19\n",
      "2.1359444569884267e-19\n",
      "1.7741674824102468e-19\n",
      "1.7741674824102468e-19\n",
      "0.0\n",
      "Eigenvalues in percentage:\n",
      "\n",
      "eigenvalue 1: 100.00%\n",
      "eigenvalue 2: 0.00%\n",
      "eigenvalue 3: 0.00%\n",
      "eigenvalue 4: 0.00%\n",
      "eigenvalue 5: 0.00%\n",
      "eigenvalue 6: 0.00%\n",
      "eigenvalue 7: 0.00%\n"
     ]
    }
   ],
   "source": [
    "# Make a list of (eigenvalue, eigenvector) tuples\n",
    "eig_pairs = [(np.abs(eig_vals[i]), eig_vecs[:,i]) for i in range(len(eig_vals))]\n",
    "\n",
    "# Sort the (eigenvalue, eigenvector) tuples from high to low\n",
    "eig_pairs = sorted(eig_pairs, key=lambda k: k[0], reverse=True)\n",
    "\n",
    "# Visually confirm that the list is correctly sorted by decreasing eigenvalues\n",
    "\n",
    "print('Eigenvalues in decreasing order:\\n')\n",
    "for i in eig_pairs:\n",
    "    print(i[0])\n",
    "\n",
    "print('Eigenvalues in percentage:\\n')\n",
    "eigv_sum = sum(eig_vals)\n",
    "for i,j in enumerate(eig_pairs):\n",
    "    print('eigenvalue {0:}: {1:.2%}'.format(i+1, (j[0]/eigv_sum).real))\n",
    "\n"
   ]
  },
  {
   "cell_type": "markdown",
   "metadata": {},
   "source": [
    "### Selecting Linear Discriminants"
   ]
  },
  {
   "cell_type": "code",
   "execution_count": 14,
   "metadata": {},
   "outputs": [
    {
     "name": "stdout",
     "output_type": "stream",
     "text": [
      "Matrix W:\n",
      " [[ 0.00370866 -0.01870579]\n",
      " [-0.03696254  0.23046662]\n",
      " [ 0.09211516  0.26363995]\n",
      " [ 0.09363603 -0.22591573]\n",
      " [ 0.0818132  -0.28903413]\n",
      " [ 0.66606092 -0.85730423]\n",
      " [ 0.72872255 -0.08648708]]\n"
     ]
    }
   ],
   "source": [
    "W = np.hstack((eig_pairs[0][1].reshape(cols,1), eig_pairs[1][1].reshape(cols,1)))\n",
    "print('Matrix W:\\n', W.real)"
   ]
  },
  {
   "cell_type": "markdown",
   "metadata": {},
   "source": [
    "### Transforming to new space"
   ]
  },
  {
   "cell_type": "code",
   "execution_count": 15,
   "metadata": {},
   "outputs": [],
   "source": [
    "X_lda = X.dot(W)\n",
    "assert X_lda.shape == (rows,2), \"The matrix is not 150x2 dimensional.\""
   ]
  },
  {
   "cell_type": "markdown",
   "metadata": {},
   "source": [
    "### Plotting"
   ]
  },
  {
   "cell_type": "code",
   "execution_count": 16,
   "metadata": {},
   "outputs": [
    {
     "data": {
      "image/png": "[encoded data removed]",
      "text/plain": [
       "<Figure size 432x288 with 1 Axes>"
      ]
     },
     "metadata": {
      "needs_background": "light"
     },
     "output_type": "display_data"
    }
   ],
   "source": [
    "label_dict = {1: 'Class 1', 0: 'Class 0'}\n",
    "\n",
    "def plot_step_lda():\n",
    "\n",
    "    ax = plt.subplot(111)\n",
    "    for label,marker,color in zip(\n",
    "        range(0,2),('^', 'o'),('blue', 'red')):\n",
    "\n",
    "\n",
    "        plt.scatter(x=X_lda[:,0].real[y == label],\n",
    "                y=X_lda[:,1].real[y == label],\n",
    "                marker=marker,\n",
    "                color=color,\n",
    "                alpha=0.5,\n",
    "                label=label_dict[label]\n",
    "                )\n",
    "     \n",
    "\n",
    "    plt.xlabel('LD1')\n",
    "    plt.ylabel('LD2')\n",
    "\n",
    "    leg = plt.legend(loc='upper right', fancybox=True)\n",
    "    leg.get_frame().set_alpha(0.5)\n",
    "    plt.title('LDA: Iris projection onto the first 2 linear discriminants')\n",
    "\n",
    "    plt.grid()\n",
    "    plt.tight_layout\n",
    "    plt.show()\n",
    "\n",
    "plot_step_lda()"
   ]
  },
  {
   "cell_type": "code",
   "execution_count": null,
   "metadata": {},
   "outputs": [],
   "source": []
  }
 ],
 "metadata": {
  "kernelspec": {
   "display_name": "Python 3",
   "language": "python",
   "name": "python3"
  },
  "language_info": {
   "codemirror_mode": {
    "name": "ipython",
    "version": 3
   },
   "file_extension": ".py",
   "mimetype": "text/x-python",
   "name": "python",
   "nbconvert_exporter": "python",
   "pygments_lexer": "ipython3",
   "version": "3.7.3"
  }
 },
 "nbformat": 4,
 "nbformat_minor": 2
}
